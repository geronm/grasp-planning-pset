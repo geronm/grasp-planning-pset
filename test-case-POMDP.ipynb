{
 "cells": [
  {
   "cell_type": "code",
   "execution_count": 1,
   "metadata": {
    "collapsed": false
   },
   "outputs": [],
   "source": [
    "%load_ext autoreload\n",
    "%autoreload 2"
   ]
  },
  {
   "cell_type": "code",
   "execution_count": 2,
   "metadata": {
    "collapsed": false,
    "scrolled": true
   },
   "outputs": [
    {
     "name": "stdout",
     "output_type": "stream",
     "text": [
      "0.133333333333\n",
      "1.0\n",
      "Performed Bayesian update on an observation of 0 probability\n",
      "12.0\n",
      "\n",
      "2.0\n",
      "\n",
      "3.0\n",
      "\n",
      "(array([[ 0. ,  0. ,  0. ],\n",
      "       [ 0.5,  0.5,  0. ],\n",
      "       [ 0. ,  0. ,  0. ],\n",
      "       [ 0. ,  0. ,  0. ],\n",
      "       [ 0. ,  0. ,  0. ]]), frozenset([(1, 1)]))\n",
      "[(0, 0), (0, 1), (0, 2), (0, 3), (0, 4), (1, 0), (1, 2), (1, 3), (1, 4), (2, 0), (2, 1), (2, 2), (2, 3), (2, 4), (3, 0), (3, 1), (3, 2), (3, 3), (3, 4), (4, 0), (4, 1), (4, 2), (4, 3), (4, 4)]\n",
      "About to solve...\n",
      "(-3.0, (1, 0))\n"
     ]
    }
   ],
   "source": [
    "from pomdp import *\n",
    "\n",
    "bp = BattleshipProblem()\n",
    "\n",
    "b_s_0 = bp.get_uniform_belief()\n",
    "\n",
    "a = (1,0)\n",
    "o = True\n",
    "b_s_after_o = bp.bayes_update(b_s_0, a, o)\n",
    "#print b_s_after_o\n",
    "\n",
    "a = (1,1)\n",
    "o = True\n",
    "b_s_after_o = bp.bayes_update(b_s_0, a, o)\n",
    "#print b_s_after_o\n",
    "\n",
    "a = (1,1)\n",
    "o = True\n",
    "print bp.prob_obs_given_bs_a(b_s_0, a, o)\n",
    "print bp.prob_obs_given_bs_a(b_s_after_o, a, o)\n",
    "\n",
    "try:\n",
    "    a = (4,1)\n",
    "    o = True\n",
    "    print bp.bayes_update(b_s_after_o, a, o)\n",
    "except Exception as e:\n",
    "    print e\n",
    "    \n",
    "print bp.heuristic(b_s_0,[a],[o])\n",
    "\n",
    "print\n",
    "\n",
    "print bp.heuristic(b_s_after_o,[a],[o])\n",
    "\n",
    "print\n",
    "\n",
    "print bp.cost(b_s_after_o,[a],[o])\n",
    "\n",
    "print\n",
    "\n",
    "print b_s_after_o\n",
    "print bp.get_possible_actions(b_s_after_o)\n",
    "print 'About to solve...'\n",
    "#print bp.solve(b_s_0)\n",
    "\n",
    "print bp.solve(b_s_after_o, 2)"
   ]
  },
  {
   "cell_type": "code",
   "execution_count": 3,
   "metadata": {
    "collapsed": false
   },
   "outputs": [
    {
     "name": "stdout",
     "output_type": "stream",
     "text": [
      "About to solve...\n",
      "score: -10.6 action: (0, 2)\n",
      "   obs: False\n",
      "score: -8.75 action: (1, 2)\n",
      "   obs: False\n",
      "score: -7.0 action: (2, 2)\n",
      "   obs: True\n",
      "score: -3.66666666667 action: (2, 0)\n",
      "   obs: False\n",
      "score: -3.0 action: (2, 1)\n",
      "   obs: True\n",
      "score: -2.0 action: (2, 3)\n",
      "   obs: True\n",
      "(array([[ 0.,  0.,  0.],\n",
      "       [ 0.,  0.,  0.],\n",
      "       [ 0.,  1.,  0.],\n",
      "       [ 0.,  0.,  0.],\n",
      "       [ 0.,  0.,  0.]]), frozenset([(1, 2), (2, 1), (2, 0), (2, 3), (2, 2), (0, 2)]))\n"
     ]
    }
   ],
   "source": [
    "# Play a round of battleship\n",
    "SHIP_ROW = 2\n",
    "SHIP_COL = 2\n",
    "\n",
    "# Ship is located at (2,2)\n",
    "#   ie occupies squares (2,1) (2,2) (2,3)\n",
    "def obs_given_a(a):\n",
    "    row, col = a\n",
    "    return (row == SHIP_ROW) and abs(col - SHIP_COL) <= 1\n",
    "\n",
    "bp = BattleshipProblem()\n",
    "\n",
    "b_s = bp.get_uniform_belief()\n",
    "\n",
    "print 'About to solve...'\n",
    "\n",
    "counter = 50\n",
    "while counter > 0 and not bp.is_terminal_belief(b_s):\n",
    "    score, a = bp.solve(b_s, depth=2)\n",
    "    print 'score: %s action: %s' % (str(score), str(a))\n",
    "    o = obs_given_a(a)\n",
    "    print '   obs: %s' % str(o)\n",
    "    b_s = bp.bayes_update(b_s, a, o)\n",
    "    counter -= 1\n",
    "print b_s\n",
    "\n",
    "\n",
    "# Notice how it plays Battleship super-smartly! Board is 5-by-5, but ship is 1-by-3, so\n",
    "# while exploring it aims for the middle column of the board to maximally decrease uncertainty,\n",
    "# since the ship always occupies that square for whatever row it is in:\n",
    "#\n",
    "# Possible col positions for a given row:\n",
    "#\n",
    "# 1 1 1 . .\n",
    "# . 2 2 2 .\n",
    "# . . 3 3 3\n",
    "#     ^\n",
    "#     |_aims here\n"
   ]
  },
  {
   "cell_type": "code",
   "execution_count": null,
   "metadata": {
    "collapsed": true
   },
   "outputs": [],
   "source": []
  }
 ],
 "metadata": {
  "anaconda-cloud": {},
  "kernelspec": {
   "display_name": "Python 2",
   "language": "python",
   "name": "python2"
  },
  "language_info": {
   "codemirror_mode": {
    "name": "ipython",
    "version": 2
   },
   "file_extension": ".py",
   "mimetype": "text/x-python",
   "name": "python",
   "nbconvert_exporter": "python",
   "pygments_lexer": "ipython2",
   "version": "2.7.6"
  }
 },
 "nbformat": 4,
 "nbformat_minor": 0
}
