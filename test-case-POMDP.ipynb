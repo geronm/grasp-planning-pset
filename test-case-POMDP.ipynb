{
 "cells": [
  {
   "cell_type": "code",
   "execution_count": 1,
   "metadata": {
    "collapsed": false
   },
   "outputs": [],
   "source": [
    "%load_ext autoreload\n",
    "%autoreload 2"
   ]
  },
  {
   "cell_type": "code",
   "execution_count": 2,
   "metadata": {
    "collapsed": false,
    "scrolled": true
   },
   "outputs": [
    {
     "ename": "NameError",
     "evalue": "name 'BattleshipProblem' is not defined",
     "output_type": "error",
     "traceback": [
      "\u001b[0;31m---------------------------------------------------------------------------\u001b[0m",
      "\u001b[0;31mNameError\u001b[0m                                 Traceback (most recent call last)",
      "\u001b[0;32m<ipython-input-2-7d535623a4b9>\u001b[0m in \u001b[0;36m<module>\u001b[0;34m()\u001b[0m\n\u001b[1;32m      1\u001b[0m \u001b[0;32mfrom\u001b[0m \u001b[0mpomdp\u001b[0m \u001b[0;32mimport\u001b[0m \u001b[0;34m*\u001b[0m\u001b[0;34m\u001b[0m\u001b[0m\n\u001b[1;32m      2\u001b[0m \u001b[0;34m\u001b[0m\u001b[0m\n\u001b[0;32m----> 3\u001b[0;31m \u001b[0mbp\u001b[0m \u001b[0;34m=\u001b[0m \u001b[0mBattleshipProblem\u001b[0m\u001b[0;34m(\u001b[0m\u001b[0;34m)\u001b[0m\u001b[0;34m\u001b[0m\u001b[0m\n\u001b[0m\u001b[1;32m      4\u001b[0m \u001b[0;34m\u001b[0m\u001b[0m\n\u001b[1;32m      5\u001b[0m \u001b[0mb_s_0\u001b[0m \u001b[0;34m=\u001b[0m \u001b[0mbp\u001b[0m\u001b[0;34m.\u001b[0m\u001b[0mget_uniform_belief\u001b[0m\u001b[0;34m(\u001b[0m\u001b[0;34m)\u001b[0m\u001b[0;34m\u001b[0m\u001b[0m\n",
      "\u001b[0;31mNameError\u001b[0m: name 'BattleshipProblem' is not defined"
     ]
    }
   ],
   "source": [
    "from pomdp import *\n",
    "\n",
    "bp = BattleshipProblem()\n",
    "\n",
    "b_s_0 = bp.get_uniform_belief()\n",
    "\n",
    "a = (1,0)\n",
    "o = True\n",
    "b_s_after_o = bp.bayes_update(b_s_0, a, o)\n",
    "#print b_s_after_o\n",
    "\n",
    "a = (1,1)\n",
    "o = True\n",
    "b_s_after_o = bp.bayes_update(b_s_0, a, o)\n",
    "#print b_s_after_o\n",
    "\n",
    "a = (1,1)\n",
    "o = True\n",
    "print bp.prob_obs_given_bs_a(b_s_0, a, o)\n",
    "print bp.prob_obs_given_bs_a(b_s_after_o, a, o)\n",
    "\n",
    "try:\n",
    "    a = (4,1)\n",
    "    o = True\n",
    "    print bp.bayes_update(b_s_after_o, a, o)\n",
    "except Exception as e:\n",
    "    print e\n",
    "    \n",
    "print bp.heuristic(b_s_0,[a],[o])\n",
    "\n",
    "print\n",
    "\n",
    "print bp.heuristic(b_s_after_o,[a],[o])\n",
    "\n",
    "print\n",
    "\n",
    "print bp.cost(b_s_after_o,[a],[o])\n",
    "\n",
    "print\n",
    "\n",
    "print b_s_after_o\n",
    "print bp.get_possible_actions(b_s_after_o)\n",
    "print 'About to solve...'\n",
    "#print bp.solve(b_s_0)\n",
    "\n",
    "print bp.solve(b_s_after_o, 2)"
   ]
  },
  {
   "cell_type": "code",
   "execution_count": null,
   "metadata": {
    "collapsed": true
   },
   "outputs": [],
   "source": []
  }
 ],
 "metadata": {
  "anaconda-cloud": {},
  "kernelspec": {
   "display_name": "Python 2",
   "language": "python",
   "name": "python2"
  },
  "language_info": {
   "codemirror_mode": {
    "name": "ipython",
    "version": 2
   },
   "file_extension": ".py",
   "mimetype": "text/x-python",
   "name": "python",
   "nbconvert_exporter": "python",
   "pygments_lexer": "ipython2",
   "version": "2.7.6"
  }
 },
 "nbformat": 4,
 "nbformat_minor": 0
}
